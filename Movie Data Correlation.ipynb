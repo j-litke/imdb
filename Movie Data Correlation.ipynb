{
 "cells": [
  {
   "cell_type": "markdown",
   "id": "b0ee7355",
   "metadata": {},
   "source": [
    "# Problem definition\n",
    "Building a correlation matrix with data from the IMDB. "
   ]
  },
  {
   "cell_type": "code",
   "execution_count": 94,
   "id": "8a96b8e5",
   "metadata": {},
   "outputs": [],
   "source": [
    "import pandas as pd\n",
    "import numpy as np\n",
    "import seaborn as sns\n",
    "\n",
    "import matplotlib\n",
    "import matplotlib.mlab as mlab\n",
    "import matplotlib.pyplot as plt\n",
    "from matplotlib.pyplot import figure\n",
    "\n",
    "plt.style.use(\"ggplot\")\n",
    "# matplotlib.rcParams['figure.figsize'] = (12,8)\n",
    "%matplotlib inline\n",
    "\n",
    "pd.options.mode.chained_assignment = None"
   ]
  },
  {
   "cell_type": "markdown",
   "id": "72b92286",
   "metadata": {},
   "source": [
    "# Exploring and cleaning the data"
   ]
  },
  {
   "cell_type": "code",
   "execution_count": 95,
   "id": "62f140ca",
   "metadata": {},
   "outputs": [],
   "source": [
    "# Import data\n",
    "df = pd.read_csv(r'C:\\Users\\Vincent\\datasets\\movies.csv')"
   ]
  },
  {
   "cell_type": "code",
   "execution_count": 96,
   "id": "f4f9889e",
   "metadata": {},
   "outputs": [
    {
     "data": {
      "text/html": [
       "<div>\n",
       "<style scoped>\n",
       "    .dataframe tbody tr th:only-of-type {\n",
       "        vertical-align: middle;\n",
       "    }\n",
       "\n",
       "    .dataframe tbody tr th {\n",
       "        vertical-align: top;\n",
       "    }\n",
       "\n",
       "    .dataframe thead th {\n",
       "        text-align: right;\n",
       "    }\n",
       "</style>\n",
       "<table border=\"1\" class=\"dataframe\">\n",
       "  <thead>\n",
       "    <tr style=\"text-align: right;\">\n",
       "      <th></th>\n",
       "      <th>name</th>\n",
       "      <th>rating</th>\n",
       "      <th>genre</th>\n",
       "      <th>year</th>\n",
       "      <th>released</th>\n",
       "      <th>score</th>\n",
       "      <th>votes</th>\n",
       "      <th>director</th>\n",
       "      <th>writer</th>\n",
       "      <th>star</th>\n",
       "      <th>country</th>\n",
       "      <th>budget</th>\n",
       "      <th>gross</th>\n",
       "      <th>company</th>\n",
       "      <th>runtime</th>\n",
       "    </tr>\n",
       "  </thead>\n",
       "  <tbody>\n",
       "    <tr>\n",
       "      <th>0</th>\n",
       "      <td>The Shining</td>\n",
       "      <td>R</td>\n",
       "      <td>Drama</td>\n",
       "      <td>1980</td>\n",
       "      <td>June 13, 1980 (United States)</td>\n",
       "      <td>8.4</td>\n",
       "      <td>927000.0</td>\n",
       "      <td>Stanley Kubrick</td>\n",
       "      <td>Stephen King</td>\n",
       "      <td>Jack Nicholson</td>\n",
       "      <td>United Kingdom</td>\n",
       "      <td>19000000.0</td>\n",
       "      <td>46998772.0</td>\n",
       "      <td>Warner Bros.</td>\n",
       "      <td>146.0</td>\n",
       "    </tr>\n",
       "    <tr>\n",
       "      <th>1</th>\n",
       "      <td>The Blue Lagoon</td>\n",
       "      <td>R</td>\n",
       "      <td>Adventure</td>\n",
       "      <td>1980</td>\n",
       "      <td>July 2, 1980 (United States)</td>\n",
       "      <td>5.8</td>\n",
       "      <td>65000.0</td>\n",
       "      <td>Randal Kleiser</td>\n",
       "      <td>Henry De Vere Stacpoole</td>\n",
       "      <td>Brooke Shields</td>\n",
       "      <td>United States</td>\n",
       "      <td>4500000.0</td>\n",
       "      <td>58853106.0</td>\n",
       "      <td>Columbia Pictures</td>\n",
       "      <td>104.0</td>\n",
       "    </tr>\n",
       "    <tr>\n",
       "      <th>2</th>\n",
       "      <td>Star Wars: Episode V - The Empire Strikes Back</td>\n",
       "      <td>PG</td>\n",
       "      <td>Action</td>\n",
       "      <td>1980</td>\n",
       "      <td>June 20, 1980 (United States)</td>\n",
       "      <td>8.7</td>\n",
       "      <td>1200000.0</td>\n",
       "      <td>Irvin Kershner</td>\n",
       "      <td>Leigh Brackett</td>\n",
       "      <td>Mark Hamill</td>\n",
       "      <td>United States</td>\n",
       "      <td>18000000.0</td>\n",
       "      <td>538375067.0</td>\n",
       "      <td>Lucasfilm</td>\n",
       "      <td>124.0</td>\n",
       "    </tr>\n",
       "    <tr>\n",
       "      <th>3</th>\n",
       "      <td>Airplane!</td>\n",
       "      <td>PG</td>\n",
       "      <td>Comedy</td>\n",
       "      <td>1980</td>\n",
       "      <td>July 2, 1980 (United States)</td>\n",
       "      <td>7.7</td>\n",
       "      <td>221000.0</td>\n",
       "      <td>Jim Abrahams</td>\n",
       "      <td>Jim Abrahams</td>\n",
       "      <td>Robert Hays</td>\n",
       "      <td>United States</td>\n",
       "      <td>3500000.0</td>\n",
       "      <td>83453539.0</td>\n",
       "      <td>Paramount Pictures</td>\n",
       "      <td>88.0</td>\n",
       "    </tr>\n",
       "    <tr>\n",
       "      <th>4</th>\n",
       "      <td>Caddyshack</td>\n",
       "      <td>R</td>\n",
       "      <td>Comedy</td>\n",
       "      <td>1980</td>\n",
       "      <td>July 25, 1980 (United States)</td>\n",
       "      <td>7.3</td>\n",
       "      <td>108000.0</td>\n",
       "      <td>Harold Ramis</td>\n",
       "      <td>Brian Doyle-Murray</td>\n",
       "      <td>Chevy Chase</td>\n",
       "      <td>United States</td>\n",
       "      <td>6000000.0</td>\n",
       "      <td>39846344.0</td>\n",
       "      <td>Orion Pictures</td>\n",
       "      <td>98.0</td>\n",
       "    </tr>\n",
       "  </tbody>\n",
       "</table>\n",
       "</div>"
      ],
      "text/plain": [
       "                                             name rating      genre  year  \\\n",
       "0                                     The Shining      R      Drama  1980   \n",
       "1                                 The Blue Lagoon      R  Adventure  1980   \n",
       "2  Star Wars: Episode V - The Empire Strikes Back     PG     Action  1980   \n",
       "3                                       Airplane!     PG     Comedy  1980   \n",
       "4                                      Caddyshack      R     Comedy  1980   \n",
       "\n",
       "                        released  score      votes         director  \\\n",
       "0  June 13, 1980 (United States)    8.4   927000.0  Stanley Kubrick   \n",
       "1   July 2, 1980 (United States)    5.8    65000.0   Randal Kleiser   \n",
       "2  June 20, 1980 (United States)    8.7  1200000.0   Irvin Kershner   \n",
       "3   July 2, 1980 (United States)    7.7   221000.0     Jim Abrahams   \n",
       "4  July 25, 1980 (United States)    7.3   108000.0     Harold Ramis   \n",
       "\n",
       "                    writer            star         country      budget  \\\n",
       "0             Stephen King  Jack Nicholson  United Kingdom  19000000.0   \n",
       "1  Henry De Vere Stacpoole  Brooke Shields   United States   4500000.0   \n",
       "2           Leigh Brackett     Mark Hamill   United States  18000000.0   \n",
       "3             Jim Abrahams     Robert Hays   United States   3500000.0   \n",
       "4       Brian Doyle-Murray     Chevy Chase   United States   6000000.0   \n",
       "\n",
       "         gross             company  runtime  \n",
       "0   46998772.0        Warner Bros.    146.0  \n",
       "1   58853106.0   Columbia Pictures    104.0  \n",
       "2  538375067.0           Lucasfilm    124.0  \n",
       "3   83453539.0  Paramount Pictures     88.0  \n",
       "4   39846344.0      Orion Pictures     98.0  "
      ]
     },
     "execution_count": 96,
     "metadata": {},
     "output_type": "execute_result"
    }
   ],
   "source": [
    "df.head()"
   ]
  },
  {
   "cell_type": "code",
   "execution_count": 97,
   "id": "96cc9c4c",
   "metadata": {},
   "outputs": [
    {
     "data": {
      "text/plain": [
       "0"
      ]
     },
     "execution_count": 97,
     "metadata": {},
     "output_type": "execute_result"
    }
   ],
   "source": [
    "# Are there duplicates?\n",
    "df.duplicated().sum()"
   ]
  },
  {
   "cell_type": "code",
   "execution_count": 98,
   "id": "0054c3df",
   "metadata": {},
   "outputs": [
    {
     "name": "stdout",
     "output_type": "stream",
     "text": [
      "<class 'pandas.core.frame.DataFrame'>\n",
      "RangeIndex: 7668 entries, 0 to 7667\n",
      "Data columns (total 15 columns):\n",
      " #   Column    Non-Null Count  Dtype  \n",
      "---  ------    --------------  -----  \n",
      " 0   name      7668 non-null   object \n",
      " 1   rating    7591 non-null   object \n",
      " 2   genre     7668 non-null   object \n",
      " 3   year      7668 non-null   int64  \n",
      " 4   released  7666 non-null   object \n",
      " 5   score     7665 non-null   float64\n",
      " 6   votes     7665 non-null   float64\n",
      " 7   director  7668 non-null   object \n",
      " 8   writer    7665 non-null   object \n",
      " 9   star      7667 non-null   object \n",
      " 10  country   7665 non-null   object \n",
      " 11  budget    5497 non-null   float64\n",
      " 12  gross     7479 non-null   float64\n",
      " 13  company   7651 non-null   object \n",
      " 14  runtime   7664 non-null   float64\n",
      "dtypes: float64(5), int64(1), object(9)\n",
      "memory usage: 898.7+ KB\n"
     ]
    }
   ],
   "source": [
    "# General info on the df\n",
    "df.info()"
   ]
  },
  {
   "cell_type": "code",
   "execution_count": 99,
   "id": "69753724",
   "metadata": {},
   "outputs": [],
   "source": [
    "# We can already see that there is missing data.\n",
    "# Also, \"released\" is a date but has added text, so istype=object"
   ]
  },
  {
   "cell_type": "code",
   "execution_count": 100,
   "id": "fc016d6d",
   "metadata": {
    "scrolled": true
   },
   "outputs": [
    {
     "data": {
      "text/plain": [
       "name           0\n",
       "rating        77\n",
       "genre          0\n",
       "year           0\n",
       "released       2\n",
       "score          3\n",
       "votes          3\n",
       "director       0\n",
       "writer         3\n",
       "star           1\n",
       "country        3\n",
       "budget      2171\n",
       "gross        189\n",
       "company       17\n",
       "runtime        4\n",
       "dtype: int64"
      ]
     },
     "execution_count": 100,
     "metadata": {},
     "output_type": "execute_result"
    }
   ],
   "source": [
    "# Deeper look into missing data\n",
    "df.isna().sum()"
   ]
  },
  {
   "cell_type": "code",
   "execution_count": 101,
   "id": "fe64bdb0",
   "metadata": {
    "scrolled": true
   },
   "outputs": [
    {
     "data": {
      "text/html": [
       "<div>\n",
       "<style scoped>\n",
       "    .dataframe tbody tr th:only-of-type {\n",
       "        vertical-align: middle;\n",
       "    }\n",
       "\n",
       "    .dataframe tbody tr th {\n",
       "        vertical-align: top;\n",
       "    }\n",
       "\n",
       "    .dataframe thead th {\n",
       "        text-align: right;\n",
       "    }\n",
       "</style>\n",
       "<table border=\"1\" class=\"dataframe\">\n",
       "  <thead>\n",
       "    <tr style=\"text-align: right;\">\n",
       "      <th></th>\n",
       "      <th>name</th>\n",
       "      <th>rating</th>\n",
       "      <th>genre</th>\n",
       "      <th>year</th>\n",
       "      <th>released</th>\n",
       "      <th>score</th>\n",
       "      <th>votes</th>\n",
       "      <th>director</th>\n",
       "      <th>writer</th>\n",
       "      <th>star</th>\n",
       "      <th>country</th>\n",
       "      <th>budget</th>\n",
       "      <th>gross</th>\n",
       "      <th>company</th>\n",
       "      <th>runtime</th>\n",
       "    </tr>\n",
       "  </thead>\n",
       "  <tbody>\n",
       "    <tr>\n",
       "      <th>5728</th>\n",
       "      <td>Saw: The Final Chapter</td>\n",
       "      <td>R</td>\n",
       "      <td>Crime</td>\n",
       "      <td>2010</td>\n",
       "      <td>NaN</td>\n",
       "      <td>5.6</td>\n",
       "      <td>93000.0</td>\n",
       "      <td>Kevin Greutert</td>\n",
       "      <td>Patrick Melton</td>\n",
       "      <td>Tobin Bell</td>\n",
       "      <td>NaN</td>\n",
       "      <td>NaN</td>\n",
       "      <td>NaN</td>\n",
       "      <td>NaN</td>\n",
       "      <td>NaN</td>\n",
       "    </tr>\n",
       "    <tr>\n",
       "      <th>5730</th>\n",
       "      <td>The Wolfman</td>\n",
       "      <td>R</td>\n",
       "      <td>Drama</td>\n",
       "      <td>2010</td>\n",
       "      <td>NaN</td>\n",
       "      <td>5.8</td>\n",
       "      <td>104000.0</td>\n",
       "      <td>Joe Johnston</td>\n",
       "      <td>Andrew Kevin Walker</td>\n",
       "      <td>Benicio Del Toro</td>\n",
       "      <td>NaN</td>\n",
       "      <td>NaN</td>\n",
       "      <td>NaN</td>\n",
       "      <td>NaN</td>\n",
       "      <td>NaN</td>\n",
       "    </tr>\n",
       "  </tbody>\n",
       "</table>\n",
       "</div>"
      ],
      "text/plain": [
       "                        name rating  genre  year released  score     votes  \\\n",
       "5728  Saw: The Final Chapter      R  Crime  2010      NaN    5.6   93000.0   \n",
       "5730             The Wolfman      R  Drama  2010      NaN    5.8  104000.0   \n",
       "\n",
       "            director               writer              star country  budget  \\\n",
       "5728  Kevin Greutert       Patrick Melton        Tobin Bell     NaN     NaN   \n",
       "5730    Joe Johnston  Andrew Kevin Walker  Benicio Del Toro     NaN     NaN   \n",
       "\n",
       "      gross company  runtime  \n",
       "5728    NaN     NaN      NaN  \n",
       "5730    NaN     NaN      NaN  "
      ]
     },
     "execution_count": 101,
     "metadata": {},
     "output_type": "execute_result"
    }
   ],
   "source": [
    "df.sort_values(by=[\"released\"]).tail(2)"
   ]
  },
  {
   "cell_type": "code",
   "execution_count": 102,
   "id": "1c1fcae9",
   "metadata": {
    "scrolled": true
   },
   "outputs": [
    {
     "data": {
      "text/plain": [
       "0          June 13, 1980 (United States)\n",
       "1           July 2, 1980 (United States)\n",
       "2          June 20, 1980 (United States)\n",
       "3           July 2, 1980 (United States)\n",
       "4          July 25, 1980 (United States)\n",
       "                      ...               \n",
       "7663    October 23, 2020 (United States)\n",
       "7664    February 7, 2020 (United States)\n",
       "7665           April 27, 2020 (Cameroon)\n",
       "7666     October 1, 2020 (United States)\n",
       "7667     August 19, 2020 (United States)\n",
       "Name: released, Length: 7668, dtype: object"
      ]
     },
     "execution_count": 102,
     "metadata": {},
     "output_type": "execute_result"
    }
   ],
   "source": [
    "# Deeper look into \"released\" column\n",
    "df[\"released\"]"
   ]
  },
  {
   "cell_type": "code",
   "execution_count": 103,
   "id": "e6fe2224",
   "metadata": {
    "scrolled": true
   },
   "outputs": [],
   "source": [
    "# We'll separate the data into release_date, release_year, release_month, release_day, release_country \n",
    "df[[\"release_month_day\", \"release_year_country\"]] = df[\"released\"].str.split(\", \",expand=True)\n",
    "df[[\"release_month\", \"release_day\", \"temp1\", \"temp2\"]] = df[\"release_month_day\"].str.split(\" \", expand=True)\n",
    "df[[\"release_year\", \"release_country\"]] = df[\"release_year_country\"].str.split(\" \\(\", expand=True)\n",
    "df[\"release_country\"] = df[\"release_country\"].str[:-1]\n",
    "df.drop([\"release_month_day\", \"release_year_country\", \"temp1\", \"temp2\"],axis=1,inplace=True)"
   ]
  },
  {
   "cell_type": "code",
   "execution_count": 104,
   "id": "e8820bf0",
   "metadata": {
    "scrolled": true
   },
   "outputs": [
    {
     "data": {
      "text/html": [
       "<div>\n",
       "<style scoped>\n",
       "    .dataframe tbody tr th:only-of-type {\n",
       "        vertical-align: middle;\n",
       "    }\n",
       "\n",
       "    .dataframe tbody tr th {\n",
       "        vertical-align: top;\n",
       "    }\n",
       "\n",
       "    .dataframe thead th {\n",
       "        text-align: right;\n",
       "    }\n",
       "</style>\n",
       "<table border=\"1\" class=\"dataframe\">\n",
       "  <thead>\n",
       "    <tr style=\"text-align: right;\">\n",
       "      <th></th>\n",
       "      <th>0</th>\n",
       "      <th>1</th>\n",
       "      <th>2</th>\n",
       "      <th>3</th>\n",
       "      <th>4</th>\n",
       "    </tr>\n",
       "  </thead>\n",
       "  <tbody>\n",
       "    <tr>\n",
       "      <th>name</th>\n",
       "      <td>The Shining</td>\n",
       "      <td>The Blue Lagoon</td>\n",
       "      <td>Star Wars: Episode V - The Empire Strikes Back</td>\n",
       "      <td>Airplane!</td>\n",
       "      <td>Caddyshack</td>\n",
       "    </tr>\n",
       "    <tr>\n",
       "      <th>rating</th>\n",
       "      <td>R</td>\n",
       "      <td>R</td>\n",
       "      <td>PG</td>\n",
       "      <td>PG</td>\n",
       "      <td>R</td>\n",
       "    </tr>\n",
       "    <tr>\n",
       "      <th>genre</th>\n",
       "      <td>Drama</td>\n",
       "      <td>Adventure</td>\n",
       "      <td>Action</td>\n",
       "      <td>Comedy</td>\n",
       "      <td>Comedy</td>\n",
       "    </tr>\n",
       "    <tr>\n",
       "      <th>year</th>\n",
       "      <td>1980</td>\n",
       "      <td>1980</td>\n",
       "      <td>1980</td>\n",
       "      <td>1980</td>\n",
       "      <td>1980</td>\n",
       "    </tr>\n",
       "    <tr>\n",
       "      <th>released</th>\n",
       "      <td>June 13, 1980 (United States)</td>\n",
       "      <td>July 2, 1980 (United States)</td>\n",
       "      <td>June 20, 1980 (United States)</td>\n",
       "      <td>July 2, 1980 (United States)</td>\n",
       "      <td>July 25, 1980 (United States)</td>\n",
       "    </tr>\n",
       "    <tr>\n",
       "      <th>score</th>\n",
       "      <td>8.4</td>\n",
       "      <td>5.8</td>\n",
       "      <td>8.7</td>\n",
       "      <td>7.7</td>\n",
       "      <td>7.3</td>\n",
       "    </tr>\n",
       "    <tr>\n",
       "      <th>votes</th>\n",
       "      <td>927000.0</td>\n",
       "      <td>65000.0</td>\n",
       "      <td>1200000.0</td>\n",
       "      <td>221000.0</td>\n",
       "      <td>108000.0</td>\n",
       "    </tr>\n",
       "    <tr>\n",
       "      <th>director</th>\n",
       "      <td>Stanley Kubrick</td>\n",
       "      <td>Randal Kleiser</td>\n",
       "      <td>Irvin Kershner</td>\n",
       "      <td>Jim Abrahams</td>\n",
       "      <td>Harold Ramis</td>\n",
       "    </tr>\n",
       "    <tr>\n",
       "      <th>writer</th>\n",
       "      <td>Stephen King</td>\n",
       "      <td>Henry De Vere Stacpoole</td>\n",
       "      <td>Leigh Brackett</td>\n",
       "      <td>Jim Abrahams</td>\n",
       "      <td>Brian Doyle-Murray</td>\n",
       "    </tr>\n",
       "    <tr>\n",
       "      <th>star</th>\n",
       "      <td>Jack Nicholson</td>\n",
       "      <td>Brooke Shields</td>\n",
       "      <td>Mark Hamill</td>\n",
       "      <td>Robert Hays</td>\n",
       "      <td>Chevy Chase</td>\n",
       "    </tr>\n",
       "    <tr>\n",
       "      <th>country</th>\n",
       "      <td>United Kingdom</td>\n",
       "      <td>United States</td>\n",
       "      <td>United States</td>\n",
       "      <td>United States</td>\n",
       "      <td>United States</td>\n",
       "    </tr>\n",
       "    <tr>\n",
       "      <th>budget</th>\n",
       "      <td>19000000.0</td>\n",
       "      <td>4500000.0</td>\n",
       "      <td>18000000.0</td>\n",
       "      <td>3500000.0</td>\n",
       "      <td>6000000.0</td>\n",
       "    </tr>\n",
       "    <tr>\n",
       "      <th>gross</th>\n",
       "      <td>46998772.0</td>\n",
       "      <td>58853106.0</td>\n",
       "      <td>538375067.0</td>\n",
       "      <td>83453539.0</td>\n",
       "      <td>39846344.0</td>\n",
       "    </tr>\n",
       "    <tr>\n",
       "      <th>company</th>\n",
       "      <td>Warner Bros.</td>\n",
       "      <td>Columbia Pictures</td>\n",
       "      <td>Lucasfilm</td>\n",
       "      <td>Paramount Pictures</td>\n",
       "      <td>Orion Pictures</td>\n",
       "    </tr>\n",
       "    <tr>\n",
       "      <th>runtime</th>\n",
       "      <td>146.0</td>\n",
       "      <td>104.0</td>\n",
       "      <td>124.0</td>\n",
       "      <td>88.0</td>\n",
       "      <td>98.0</td>\n",
       "    </tr>\n",
       "    <tr>\n",
       "      <th>release_month</th>\n",
       "      <td>June</td>\n",
       "      <td>July</td>\n",
       "      <td>June</td>\n",
       "      <td>July</td>\n",
       "      <td>July</td>\n",
       "    </tr>\n",
       "    <tr>\n",
       "      <th>release_day</th>\n",
       "      <td>13</td>\n",
       "      <td>2</td>\n",
       "      <td>20</td>\n",
       "      <td>2</td>\n",
       "      <td>25</td>\n",
       "    </tr>\n",
       "    <tr>\n",
       "      <th>release_year</th>\n",
       "      <td>1980</td>\n",
       "      <td>1980</td>\n",
       "      <td>1980</td>\n",
       "      <td>1980</td>\n",
       "      <td>1980</td>\n",
       "    </tr>\n",
       "    <tr>\n",
       "      <th>release_country</th>\n",
       "      <td>United States</td>\n",
       "      <td>United States</td>\n",
       "      <td>United States</td>\n",
       "      <td>United States</td>\n",
       "      <td>United States</td>\n",
       "    </tr>\n",
       "  </tbody>\n",
       "</table>\n",
       "</div>"
      ],
      "text/plain": [
       "                                             0                             1  \\\n",
       "name                               The Shining               The Blue Lagoon   \n",
       "rating                                       R                             R   \n",
       "genre                                    Drama                     Adventure   \n",
       "year                                      1980                          1980   \n",
       "released         June 13, 1980 (United States)  July 2, 1980 (United States)   \n",
       "score                                      8.4                           5.8   \n",
       "votes                                 927000.0                       65000.0   \n",
       "director                       Stanley Kubrick                Randal Kleiser   \n",
       "writer                            Stephen King       Henry De Vere Stacpoole   \n",
       "star                            Jack Nicholson                Brooke Shields   \n",
       "country                         United Kingdom                 United States   \n",
       "budget                              19000000.0                     4500000.0   \n",
       "gross                               46998772.0                    58853106.0   \n",
       "company                           Warner Bros.             Columbia Pictures   \n",
       "runtime                                  146.0                         104.0   \n",
       "release_month                             June                          July   \n",
       "release_day                                 13                             2   \n",
       "release_year                              1980                          1980   \n",
       "release_country                  United States                 United States   \n",
       "\n",
       "                                                              2  \\\n",
       "name             Star Wars: Episode V - The Empire Strikes Back   \n",
       "rating                                                       PG   \n",
       "genre                                                    Action   \n",
       "year                                                       1980   \n",
       "released                          June 20, 1980 (United States)   \n",
       "score                                                       8.7   \n",
       "votes                                                 1200000.0   \n",
       "director                                         Irvin Kershner   \n",
       "writer                                           Leigh Brackett   \n",
       "star                                                Mark Hamill   \n",
       "country                                           United States   \n",
       "budget                                               18000000.0   \n",
       "gross                                               538375067.0   \n",
       "company                                               Lucasfilm   \n",
       "runtime                                                   124.0   \n",
       "release_month                                              June   \n",
       "release_day                                                  20   \n",
       "release_year                                               1980   \n",
       "release_country                                   United States   \n",
       "\n",
       "                                            3                              4  \n",
       "name                                Airplane!                     Caddyshack  \n",
       "rating                                     PG                              R  \n",
       "genre                                  Comedy                         Comedy  \n",
       "year                                     1980                           1980  \n",
       "released         July 2, 1980 (United States)  July 25, 1980 (United States)  \n",
       "score                                     7.7                            7.3  \n",
       "votes                                221000.0                       108000.0  \n",
       "director                         Jim Abrahams                   Harold Ramis  \n",
       "writer                           Jim Abrahams             Brian Doyle-Murray  \n",
       "star                              Robert Hays                    Chevy Chase  \n",
       "country                         United States                  United States  \n",
       "budget                              3500000.0                      6000000.0  \n",
       "gross                              83453539.0                     39846344.0  \n",
       "company                    Paramount Pictures                 Orion Pictures  \n",
       "runtime                                  88.0                           98.0  \n",
       "release_month                            July                           July  \n",
       "release_day                                 2                             25  \n",
       "release_year                             1980                           1980  \n",
       "release_country                 United States                  United States  "
      ]
     },
     "execution_count": 104,
     "metadata": {},
     "output_type": "execute_result"
    }
   ],
   "source": [
    "df.head().T"
   ]
  },
  {
   "cell_type": "code",
   "execution_count": 105,
   "id": "89b29e43",
   "metadata": {},
   "outputs": [
    {
     "data": {
      "text/plain": [
       "59"
      ]
     },
     "execution_count": 105,
     "metadata": {},
     "output_type": "execute_result"
    }
   ],
   "source": [
    "# We can now unify the columns release_year and year\n",
    "df[\"release_year\"].isna().sum()"
   ]
  },
  {
   "cell_type": "code",
   "execution_count": 106,
   "id": "48eb99b3",
   "metadata": {
    "scrolled": true
   },
   "outputs": [
    {
     "data": {
      "text/plain": [
       "0"
      ]
     },
     "execution_count": 106,
     "metadata": {},
     "output_type": "execute_result"
    }
   ],
   "source": [
    "df[\"year\"].isna().sum()"
   ]
  },
  {
   "cell_type": "code",
   "execution_count": 107,
   "id": "9a3034d5",
   "metadata": {},
   "outputs": [
    {
     "data": {
      "text/plain": [
       "0"
      ]
     },
     "execution_count": 107,
     "metadata": {},
     "output_type": "execute_result"
    }
   ],
   "source": [
    "# We will consider \"release_year\" as being more truthfull, but will fill in the missing values with values from \"year\" when necesary.\n",
    "df[\"release_year\"] = df[\"release_year\"].fillna(df[\"year\"])\n",
    "df[\"release_year\"].isna().sum()"
   ]
  },
  {
   "cell_type": "code",
   "execution_count": 108,
   "id": "de7b050b",
   "metadata": {},
   "outputs": [
    {
     "data": {
      "text/plain": [
       "Index(['Approved', 'G', 'NC-17', 'Not Rated', 'PG', 'PG-13', 'R', 'TV-14',\n",
       "       'TV-MA', 'TV-PG', 'Unrated', 'X'],\n",
       "      dtype='object')"
      ]
     },
     "execution_count": 108,
     "metadata": {},
     "output_type": "execute_result"
    }
   ],
   "source": [
    "# Turning Rating and Genre into categories, and simplifying rating values\n",
    "df[[\"rating\",\"genre\"]] = df[[\"rating\",\"genre\"]].astype(\"category\")\n",
    "df.rating.cat.categories"
   ]
  },
  {
   "cell_type": "code",
   "execution_count": 109,
   "id": "39cca09a",
   "metadata": {
    "scrolled": false
   },
   "outputs": [
    {
     "data": {
      "text/plain": [
       "Index(['Approved', 'G', 'NC-17', 'Not Rated', 'PG', 'PG-13', 'R', 'TV-14',\n",
       "       'TV-MA', 'TV-PG', 'X'],\n",
       "      dtype='object')"
      ]
     },
     "execution_count": 109,
     "metadata": {},
     "output_type": "execute_result"
    }
   ],
   "source": [
    "df = df.replace({\"rating\":{\"Unrated\":\"Not Rated\"}})\n",
    "df.rating.cat.categories"
   ]
  },
  {
   "cell_type": "code",
   "execution_count": 110,
   "id": "269564ec",
   "metadata": {},
   "outputs": [
    {
     "data": {
      "text/html": [
       "<div>\n",
       "<style scoped>\n",
       "    .dataframe tbody tr th:only-of-type {\n",
       "        vertical-align: middle;\n",
       "    }\n",
       "\n",
       "    .dataframe tbody tr th {\n",
       "        vertical-align: top;\n",
       "    }\n",
       "\n",
       "    .dataframe thead th {\n",
       "        text-align: right;\n",
       "    }\n",
       "</style>\n",
       "<table border=\"1\" class=\"dataframe\">\n",
       "  <thead>\n",
       "    <tr style=\"text-align: right;\">\n",
       "      <th></th>\n",
       "      <th>0</th>\n",
       "      <th>1</th>\n",
       "      <th>2</th>\n",
       "      <th>3</th>\n",
       "      <th>4</th>\n",
       "    </tr>\n",
       "  </thead>\n",
       "  <tbody>\n",
       "    <tr>\n",
       "      <th>name</th>\n",
       "      <td>The Shining</td>\n",
       "      <td>The Blue Lagoon</td>\n",
       "      <td>Star Wars: Episode V - The Empire Strikes Back</td>\n",
       "      <td>Airplane!</td>\n",
       "      <td>Caddyshack</td>\n",
       "    </tr>\n",
       "    <tr>\n",
       "      <th>rating</th>\n",
       "      <td>R</td>\n",
       "      <td>R</td>\n",
       "      <td>PG</td>\n",
       "      <td>PG</td>\n",
       "      <td>R</td>\n",
       "    </tr>\n",
       "    <tr>\n",
       "      <th>genre</th>\n",
       "      <td>Drama</td>\n",
       "      <td>Adventure</td>\n",
       "      <td>Action</td>\n",
       "      <td>Comedy</td>\n",
       "      <td>Comedy</td>\n",
       "    </tr>\n",
       "    <tr>\n",
       "      <th>score</th>\n",
       "      <td>8.4</td>\n",
       "      <td>5.8</td>\n",
       "      <td>8.7</td>\n",
       "      <td>7.7</td>\n",
       "      <td>7.3</td>\n",
       "    </tr>\n",
       "    <tr>\n",
       "      <th>votes</th>\n",
       "      <td>927000.0</td>\n",
       "      <td>65000.0</td>\n",
       "      <td>1200000.0</td>\n",
       "      <td>221000.0</td>\n",
       "      <td>108000.0</td>\n",
       "    </tr>\n",
       "    <tr>\n",
       "      <th>director</th>\n",
       "      <td>Stanley Kubrick</td>\n",
       "      <td>Randal Kleiser</td>\n",
       "      <td>Irvin Kershner</td>\n",
       "      <td>Jim Abrahams</td>\n",
       "      <td>Harold Ramis</td>\n",
       "    </tr>\n",
       "    <tr>\n",
       "      <th>writer</th>\n",
       "      <td>Stephen King</td>\n",
       "      <td>Henry De Vere Stacpoole</td>\n",
       "      <td>Leigh Brackett</td>\n",
       "      <td>Jim Abrahams</td>\n",
       "      <td>Brian Doyle-Murray</td>\n",
       "    </tr>\n",
       "    <tr>\n",
       "      <th>star</th>\n",
       "      <td>Jack Nicholson</td>\n",
       "      <td>Brooke Shields</td>\n",
       "      <td>Mark Hamill</td>\n",
       "      <td>Robert Hays</td>\n",
       "      <td>Chevy Chase</td>\n",
       "    </tr>\n",
       "    <tr>\n",
       "      <th>country</th>\n",
       "      <td>United Kingdom</td>\n",
       "      <td>United States</td>\n",
       "      <td>United States</td>\n",
       "      <td>United States</td>\n",
       "      <td>United States</td>\n",
       "    </tr>\n",
       "    <tr>\n",
       "      <th>budget</th>\n",
       "      <td>19000000.0</td>\n",
       "      <td>4500000.0</td>\n",
       "      <td>18000000.0</td>\n",
       "      <td>3500000.0</td>\n",
       "      <td>6000000.0</td>\n",
       "    </tr>\n",
       "    <tr>\n",
       "      <th>gross</th>\n",
       "      <td>46998772.0</td>\n",
       "      <td>58853106.0</td>\n",
       "      <td>538375067.0</td>\n",
       "      <td>83453539.0</td>\n",
       "      <td>39846344.0</td>\n",
       "    </tr>\n",
       "    <tr>\n",
       "      <th>company</th>\n",
       "      <td>Warner Bros.</td>\n",
       "      <td>Columbia Pictures</td>\n",
       "      <td>Lucasfilm</td>\n",
       "      <td>Paramount Pictures</td>\n",
       "      <td>Orion Pictures</td>\n",
       "    </tr>\n",
       "    <tr>\n",
       "      <th>runtime</th>\n",
       "      <td>146.0</td>\n",
       "      <td>104.0</td>\n",
       "      <td>124.0</td>\n",
       "      <td>88.0</td>\n",
       "      <td>98.0</td>\n",
       "    </tr>\n",
       "    <tr>\n",
       "      <th>release_month</th>\n",
       "      <td>June</td>\n",
       "      <td>July</td>\n",
       "      <td>June</td>\n",
       "      <td>July</td>\n",
       "      <td>July</td>\n",
       "    </tr>\n",
       "    <tr>\n",
       "      <th>release_day</th>\n",
       "      <td>13</td>\n",
       "      <td>2</td>\n",
       "      <td>20</td>\n",
       "      <td>2</td>\n",
       "      <td>25</td>\n",
       "    </tr>\n",
       "    <tr>\n",
       "      <th>release_year</th>\n",
       "      <td>1980</td>\n",
       "      <td>1980</td>\n",
       "      <td>1980</td>\n",
       "      <td>1980</td>\n",
       "      <td>1980</td>\n",
       "    </tr>\n",
       "    <tr>\n",
       "      <th>release_country</th>\n",
       "      <td>United States</td>\n",
       "      <td>United States</td>\n",
       "      <td>United States</td>\n",
       "      <td>United States</td>\n",
       "      <td>United States</td>\n",
       "    </tr>\n",
       "  </tbody>\n",
       "</table>\n",
       "</div>"
      ],
      "text/plain": [
       "                               0                        1  \\\n",
       "name                 The Shining          The Blue Lagoon   \n",
       "rating                         R                        R   \n",
       "genre                      Drama                Adventure   \n",
       "score                        8.4                      5.8   \n",
       "votes                   927000.0                  65000.0   \n",
       "director         Stanley Kubrick           Randal Kleiser   \n",
       "writer              Stephen King  Henry De Vere Stacpoole   \n",
       "star              Jack Nicholson           Brooke Shields   \n",
       "country           United Kingdom            United States   \n",
       "budget                19000000.0                4500000.0   \n",
       "gross                 46998772.0               58853106.0   \n",
       "company             Warner Bros.        Columbia Pictures   \n",
       "runtime                    146.0                    104.0   \n",
       "release_month               June                     July   \n",
       "release_day                   13                        2   \n",
       "release_year                1980                     1980   \n",
       "release_country    United States            United States   \n",
       "\n",
       "                                                              2  \\\n",
       "name             Star Wars: Episode V - The Empire Strikes Back   \n",
       "rating                                                       PG   \n",
       "genre                                                    Action   \n",
       "score                                                       8.7   \n",
       "votes                                                 1200000.0   \n",
       "director                                         Irvin Kershner   \n",
       "writer                                           Leigh Brackett   \n",
       "star                                                Mark Hamill   \n",
       "country                                           United States   \n",
       "budget                                               18000000.0   \n",
       "gross                                               538375067.0   \n",
       "company                                               Lucasfilm   \n",
       "runtime                                                   124.0   \n",
       "release_month                                              June   \n",
       "release_day                                                  20   \n",
       "release_year                                               1980   \n",
       "release_country                                   United States   \n",
       "\n",
       "                                  3                   4  \n",
       "name                      Airplane!          Caddyshack  \n",
       "rating                           PG                   R  \n",
       "genre                        Comedy              Comedy  \n",
       "score                           7.7                 7.3  \n",
       "votes                      221000.0            108000.0  \n",
       "director               Jim Abrahams        Harold Ramis  \n",
       "writer                 Jim Abrahams  Brian Doyle-Murray  \n",
       "star                    Robert Hays         Chevy Chase  \n",
       "country               United States       United States  \n",
       "budget                    3500000.0           6000000.0  \n",
       "gross                    83453539.0          39846344.0  \n",
       "company          Paramount Pictures      Orion Pictures  \n",
       "runtime                        88.0                98.0  \n",
       "release_month                  July                July  \n",
       "release_day                       2                  25  \n",
       "release_year                   1980                1980  \n",
       "release_country       United States       United States  "
      ]
     },
     "execution_count": 110,
     "metadata": {},
     "output_type": "execute_result"
    }
   ],
   "source": [
    "# We can now delete the columns we do not need:\n",
    "df = df.drop(columns=[\"year\",\"released\"],axis=1)\n",
    "df.head().T"
   ]
  },
  {
   "cell_type": "markdown",
   "id": "4b740350",
   "metadata": {},
   "source": [
    "# Checking Correlation between parameters"
   ]
  },
  {
   "cell_type": "code",
   "execution_count": 111,
   "id": "7f76cf8d",
   "metadata": {},
   "outputs": [
    {
     "data": {
      "image/png": "[encoded data removed]",
      "text/plain": [
       "<Figure size 432x288 with 1 Axes>"
      ]
     },
     "metadata": {
      "needs_background": "light"
     },
     "output_type": "display_data"
    }
   ],
   "source": [
    "sns.regplot(x=\"gross\", y=\"budget\", data=df, scatter_kws={\"color\":\"orange\"}, line_kws={\"color\":\"blue\"});"
   ]
  },
  {
   "cell_type": "code",
   "execution_count": 112,
   "id": "82a6793b",
   "metadata": {
    "scrolled": true
   },
   "outputs": [
    {
     "data": {
      "image/png": "[encoded data removed]",
      "text/plain": [
       "<Figure size 432x288 with 2 Axes>"
      ]
     },
     "metadata": {
      "needs_background": "light"
     },
     "output_type": "display_data"
    }
   ],
   "source": [
    "correlation_matrix = df.corr(method ='pearson')\n",
    "\n",
    "sns.heatmap(correlation_matrix, annot = True)\n",
    "\n",
    "plt.title(\"Correlation matrix for Numeric Features\")\n",
    "\n",
    "plt.xlabel(\"Movie features\")\n",
    "\n",
    "plt.ylabel(\"Movie features\")\n",
    "\n",
    "plt.show()"
   ]
  },
  {
   "cell_type": "code",
   "execution_count": 113,
   "id": "f2555ab0",
   "metadata": {
    "scrolled": false
   },
   "outputs": [
    {
     "data": {
      "image/png": "[encoded data removed]",
      "text/plain": [
       "<Figure size 432x288 with 2 Axes>"
      ]
     },
     "metadata": {
      "needs_background": "light"
     },
     "output_type": "display_data"
    }
   ],
   "source": [
    "# Using factorize - this assigns a random numeric value for each unique categorical value\n",
    "\n",
    "correlation_matrix = df.apply(lambda x: x.factorize()[0]).corr(method='pearson')\n",
    "\n",
    "sns.heatmap(correlation_matrix, annot = True)\n",
    "\n",
    "plt.title(\"Correlation matrix for Movies\")\n",
    "\n",
    "plt.xlabel(\"Movie features\")\n",
    "\n",
    "plt.ylabel(\"Movie features\")\n",
    "\n",
    "plt.show()"
   ]
  },
  {
   "cell_type": "code",
   "execution_count": 114,
   "id": "1e8e2f93",
   "metadata": {},
   "outputs": [
    {
     "name": "stdout",
     "output_type": "stream",
     "text": [
      "star             company            0.527116\n",
      "company          star               0.527116\n",
      "                 writer             0.546151\n",
      "writer           company            0.546151\n",
      "company          director           0.552258\n",
      "director         company            0.552258\n",
      "company          gross              0.588156\n",
      "gross            company            0.588156\n",
      "name             company            0.591667\n",
      "company          name               0.591667\n",
      "star             release_year       0.645981\n",
      "release_year     star               0.645981\n",
      "                 director           0.646760\n",
      "director         release_year       0.646760\n",
      "star             writer             0.675685\n",
      "writer           star               0.675685\n",
      "director         star               0.682385\n",
      "star             director           0.682385\n",
      "writer           release_year       0.714607\n",
      "release_year     writer             0.714607\n",
      "name             star               0.731565\n",
      "star             name               0.731565\n",
      "                 gross              0.735680\n",
      "gross            star               0.735680\n",
      "name             director           0.745905\n",
      "director         name               0.745905\n",
      "writer           director           0.748340\n",
      "director         writer             0.748340\n",
      "                 gross              0.750911\n",
      "gross            director           0.750911\n",
      "writer           name               0.805211\n",
      "name             writer             0.805211\n",
      "writer           gross              0.805576\n",
      "gross            writer             0.805576\n",
      "name             release_year       0.829181\n",
      "release_year     name               0.829181\n",
      "                 gross              0.837649\n",
      "gross            release_year       0.837649\n",
      "                 name               0.947324\n",
      "name             gross              0.947324\n",
      "                 name               1.000000\n",
      "country          country            1.000000\n",
      "release_day      release_day        1.000000\n",
      "release_month    release_month      1.000000\n",
      "runtime          runtime            1.000000\n",
      "company          company            1.000000\n",
      "gross            gross              1.000000\n",
      "budget           budget             1.000000\n",
      "star             star               1.000000\n",
      "writer           writer             1.000000\n",
      "director         director           1.000000\n",
      "votes            votes              1.000000\n",
      "score            score              1.000000\n",
      "genre            genre              1.000000\n",
      "rating           rating             1.000000\n",
      "release_year     release_year       1.000000\n",
      "release_country  release_country    1.000000\n",
      "dtype: float64\n"
     ]
    }
   ],
   "source": [
    "corr_pairs = correlation_matrix.unstack()\n",
    "sorted_pairs = corr_pairs.sort_values(kind=\"quicksort\")\n",
    "\n",
    "# We can now take a look at the ones that have a high correlation (> 0.5)\n",
    "\n",
    "strong_pairs = sorted_pairs[abs(sorted_pairs) > 0.5]\n",
    "\n",
    "print(strong_pairs)"
   ]
  }
 ],
 "metadata": {
  "kernelspec": {
   "display_name": "movie_correlation_env",
   "language": "python",
   "name": "movie_correlation_env"
  },
  "language_info": {
   "codemirror_mode": {
    "name": "ipython",
    "version": 3
   },
   "file_extension": ".py",
   "mimetype": "text/x-python",
   "name": "python",
   "nbconvert_exporter": "python",
   "pygments_lexer": "ipython3",
   "version": "3.9.12"
  }
 },
 "nbformat": 4,
 "nbformat_minor": 5
}
